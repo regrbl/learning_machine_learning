{
 "cells": [
  {
   "cell_type": "code",
   "execution_count": 264,
   "id": "bce5fbe6",
   "metadata": {},
   "outputs": [],
   "source": [
    "import numpy as np\n",
    "import pandas as pd\n",
    "import seaborn as sns\n",
    "import matplotlib.pyplot as plt\n",
    "import statsmodels.api as sm"
   ]
  },
  {
   "cell_type": "markdown",
   "id": "1d77b8e8",
   "metadata": {},
   "source": [
    "# Introduction: Variables"
   ]
  },
  {
   "cell_type": "code",
   "execution_count": null,
   "id": "3945cf68",
   "metadata": {},
   "outputs": [],
   "source": []
  },
  {
   "cell_type": "markdown",
   "id": "5747182c",
   "metadata": {},
   "source": [
    "1. age\n",
    "2. sex\n",
    "3. major\n",
    "        \n",
    "4. soc: sense of coherence\n",
    "\n",
    "5. fr_str: the amount of stress stemming from friendships, maximum = 5\n",
    "6. romantic_str: the amount of stress stemming from romantic relationships, maximum = 5\n",
    "7. parent_str: the amount of stress stemming from parents, maximum = 5\n",
    "8. fam_str: the amount of stress stemming from siblings, relatives and other family members (excluding parents), maximum = 5\n",
    "9. total_stress: the total amount of stress coming from interpersonal relationships, which equals the sum of four previous variables\n",
    "    \n",
    "10. social_support: measure the ability to actively engage in acquiring support from relatives, friends, neighbors and extended family.\n",
    "11. refraiming: assesses the capability to redefine stressful events in order to make them more manageable. \n",
    "12. spiritual_support: seeking spiritual support\n",
    "13. acquire_accept_help: mobilizing family to acquire and accept help:  the ability to seek out community resources and accept help from others\n",
    "14. passive_appraisal: passive appraisal: ability to accept problematic issues minimizing reactivity\n",
    "\n",
    "13. satisfaction: quality of life\n",
    "\n"
   ]
  },
  {
   "cell_type": "markdown",
   "id": "67344751",
   "metadata": {},
   "source": [
    "# Import Dataset"
   ]
  },
  {
   "cell_type": "code",
   "execution_count": 193,
   "id": "7939318d",
   "metadata": {},
   "outputs": [],
   "source": [
    "df_raw = pd.read_csv('Downloads/data_csv.csv')"
   ]
  },
  {
   "cell_type": "code",
   "execution_count": 280,
   "id": "1b37a3a7",
   "metadata": {},
   "outputs": [],
   "source": [
    "df = df_raw.drop(['Unnamed: 16','Unnamed: 17','Unnamed: 18','Unnamed: 19','Unnamed: 20'],axis=1)\n",
    "df.columns = [['age', 'sex', 'major', 'job', 'soc', 'fr_str', 'romantic_str',\n",
    "       'parent_str', 'fam_str', 'total_stress', 'social_support', 'refraiming',\n",
    "       'spiritual_support', 'acquire_accept_help', 'passive_appraisal',\n",
    "       'satisfaction']]"
   ]
  },
  {
   "cell_type": "code",
   "execution_count": 281,
   "id": "ad7382b6",
   "metadata": {},
   "outputs": [
    {
     "data": {
      "text/html": [
       "<div>\n",
       "<style scoped>\n",
       "    .dataframe tbody tr th:only-of-type {\n",
       "        vertical-align: middle;\n",
       "    }\n",
       "\n",
       "    .dataframe tbody tr th {\n",
       "        vertical-align: top;\n",
       "    }\n",
       "\n",
       "    .dataframe thead tr th {\n",
       "        text-align: left;\n",
       "    }\n",
       "</style>\n",
       "<table border=\"1\" class=\"dataframe\">\n",
       "  <thead>\n",
       "    <tr>\n",
       "      <th></th>\n",
       "      <th>age</th>\n",
       "      <th>sex</th>\n",
       "      <th>major</th>\n",
       "      <th>job</th>\n",
       "      <th>soc</th>\n",
       "      <th>fr_str</th>\n",
       "      <th>romantic_str</th>\n",
       "      <th>parent_str</th>\n",
       "      <th>fam_str</th>\n",
       "      <th>total_stress</th>\n",
       "      <th>social_support</th>\n",
       "      <th>refraiming</th>\n",
       "      <th>spiritual_support</th>\n",
       "      <th>acquire_accept_help</th>\n",
       "      <th>passive_appraisal</th>\n",
       "      <th>satisfaction</th>\n",
       "    </tr>\n",
       "  </thead>\n",
       "  <tbody>\n",
       "    <tr>\n",
       "      <th>0</th>\n",
       "      <td>21</td>\n",
       "      <td>Male</td>\n",
       "      <td>International Business Economics</td>\n",
       "      <td>No</td>\n",
       "      <td>92</td>\n",
       "      <td>1</td>\n",
       "      <td>1</td>\n",
       "      <td>1</td>\n",
       "      <td>1</td>\n",
       "      <td>4</td>\n",
       "      <td>3.5</td>\n",
       "      <td>4.00</td>\n",
       "      <td>3.0</td>\n",
       "      <td>4.5</td>\n",
       "      <td>3.333333</td>\n",
       "      <td>25</td>\n",
       "    </tr>\n",
       "    <tr>\n",
       "      <th>1</th>\n",
       "      <td>20</td>\n",
       "      <td>Female</td>\n",
       "      <td>Business Chinese</td>\n",
       "      <td>&lt;25 hours/ week</td>\n",
       "      <td>91</td>\n",
       "      <td>3</td>\n",
       "      <td>1</td>\n",
       "      <td>1</td>\n",
       "      <td>1</td>\n",
       "      <td>6</td>\n",
       "      <td>1.5</td>\n",
       "      <td>1.25</td>\n",
       "      <td>1.5</td>\n",
       "      <td>1.5</td>\n",
       "      <td>4.000000</td>\n",
       "      <td>13</td>\n",
       "    </tr>\n",
       "    <tr>\n",
       "      <th>2</th>\n",
       "      <td>20</td>\n",
       "      <td>Female</td>\n",
       "      <td>Hospitality Management</td>\n",
       "      <td>No</td>\n",
       "      <td>91</td>\n",
       "      <td>2</td>\n",
       "      <td>3</td>\n",
       "      <td>3</td>\n",
       "      <td>5</td>\n",
       "      <td>13</td>\n",
       "      <td>3.0</td>\n",
       "      <td>2.75</td>\n",
       "      <td>2.5</td>\n",
       "      <td>3.0</td>\n",
       "      <td>4.333333</td>\n",
       "      <td>20</td>\n",
       "    </tr>\n",
       "    <tr>\n",
       "      <th>3</th>\n",
       "      <td>20</td>\n",
       "      <td>Female</td>\n",
       "      <td>Accounting</td>\n",
       "      <td>No</td>\n",
       "      <td>98</td>\n",
       "      <td>1</td>\n",
       "      <td>1</td>\n",
       "      <td>1</td>\n",
       "      <td>1</td>\n",
       "      <td>4</td>\n",
       "      <td>3.5</td>\n",
       "      <td>3.75</td>\n",
       "      <td>1.5</td>\n",
       "      <td>3.5</td>\n",
       "      <td>3.666667</td>\n",
       "      <td>29</td>\n",
       "    </tr>\n",
       "    <tr>\n",
       "      <th>4</th>\n",
       "      <td>19</td>\n",
       "      <td>Female</td>\n",
       "      <td>Law</td>\n",
       "      <td>No</td>\n",
       "      <td>86</td>\n",
       "      <td>4</td>\n",
       "      <td>4</td>\n",
       "      <td>4</td>\n",
       "      <td>3</td>\n",
       "      <td>15</td>\n",
       "      <td>1.5</td>\n",
       "      <td>1.50</td>\n",
       "      <td>2.0</td>\n",
       "      <td>3.0</td>\n",
       "      <td>4.333333</td>\n",
       "      <td>20</td>\n",
       "    </tr>\n",
       "  </tbody>\n",
       "</table>\n",
       "</div>"
      ],
      "text/plain": [
       "  age     sex                             major              job soc fr_str  \\\n",
       "0  21    Male  International Business Economics               No  92      1   \n",
       "1  20  Female                  Business Chinese  <25 hours/ week  91      3   \n",
       "2  20  Female            Hospitality Management               No  91      2   \n",
       "3  20  Female                        Accounting               No  98      1   \n",
       "4  19  Female                               Law               No  86      4   \n",
       "\n",
       "  romantic_str parent_str fam_str total_stress social_support refraiming  \\\n",
       "0            1          1       1            4            3.5       4.00   \n",
       "1            1          1       1            6            1.5       1.25   \n",
       "2            3          3       5           13            3.0       2.75   \n",
       "3            1          1       1            4            3.5       3.75   \n",
       "4            4          4       3           15            1.5       1.50   \n",
       "\n",
       "  spiritual_support acquire_accept_help passive_appraisal satisfaction  \n",
       "0               3.0                 4.5          3.333333           25  \n",
       "1               1.5                 1.5          4.000000           13  \n",
       "2               2.5                 3.0          4.333333           20  \n",
       "3               1.5                 3.5          3.666667           29  \n",
       "4               2.0                 3.0          4.333333           20  "
      ]
     },
     "execution_count": 281,
     "metadata": {},
     "output_type": "execute_result"
    }
   ],
   "source": [
    "df.head(5)"
   ]
  },
  {
   "cell_type": "markdown",
   "id": "2f98dcb2",
   "metadata": {},
   "source": [
    "# Sample Characteristics"
   ]
  },
  {
   "cell_type": "markdown",
   "id": "3fc35f67",
   "metadata": {},
   "source": [
    " ### 1. Mean, standard deviation, min, max, quartiles"
   ]
  },
  {
   "cell_type": "code",
   "execution_count": 196,
   "id": "c7c1cae2",
   "metadata": {},
   "outputs": [
    {
     "data": {
      "text/html": [
       "<div>\n",
       "<style scoped>\n",
       "    .dataframe tbody tr th:only-of-type {\n",
       "        vertical-align: middle;\n",
       "    }\n",
       "\n",
       "    .dataframe tbody tr th {\n",
       "        vertical-align: top;\n",
       "    }\n",
       "\n",
       "    .dataframe thead th {\n",
       "        text-align: right;\n",
       "    }\n",
       "</style>\n",
       "<table border=\"1\" class=\"dataframe\">\n",
       "  <thead>\n",
       "    <tr style=\"text-align: right;\">\n",
       "      <th></th>\n",
       "      <th>age</th>\n",
       "      <th>soc</th>\n",
       "      <th>fr_str</th>\n",
       "      <th>romantic_str</th>\n",
       "      <th>parent_str</th>\n",
       "      <th>fam_str</th>\n",
       "      <th>total_stress</th>\n",
       "      <th>social_support</th>\n",
       "      <th>reframing</th>\n",
       "      <th>spiritual_support</th>\n",
       "      <th>acquire_accept_help</th>\n",
       "      <th>passive_appraisal</th>\n",
       "      <th>satisfaction</th>\n",
       "    </tr>\n",
       "  </thead>\n",
       "  <tbody>\n",
       "    <tr>\n",
       "      <th>count</th>\n",
       "      <td>77.000000</td>\n",
       "      <td>77.000000</td>\n",
       "      <td>77.000000</td>\n",
       "      <td>77.000000</td>\n",
       "      <td>77.000000</td>\n",
       "      <td>77.000000</td>\n",
       "      <td>77.000000</td>\n",
       "      <td>77.000000</td>\n",
       "      <td>77.000000</td>\n",
       "      <td>77.000000</td>\n",
       "      <td>77.000000</td>\n",
       "      <td>77.000000</td>\n",
       "      <td>77.000000</td>\n",
       "    </tr>\n",
       "    <tr>\n",
       "      <th>mean</th>\n",
       "      <td>19.987013</td>\n",
       "      <td>89.805195</td>\n",
       "      <td>2.480519</td>\n",
       "      <td>2.389610</td>\n",
       "      <td>2.584416</td>\n",
       "      <td>2.402597</td>\n",
       "      <td>9.857143</td>\n",
       "      <td>3.162338</td>\n",
       "      <td>3.581169</td>\n",
       "      <td>2.318182</td>\n",
       "      <td>2.974026</td>\n",
       "      <td>3.064935</td>\n",
       "      <td>21.233766</td>\n",
       "    </tr>\n",
       "    <tr>\n",
       "      <th>std</th>\n",
       "      <td>0.924712</td>\n",
       "      <td>7.600275</td>\n",
       "      <td>1.220552</td>\n",
       "      <td>1.339244</td>\n",
       "      <td>1.341157</td>\n",
       "      <td>1.183880</td>\n",
       "      <td>3.694642</td>\n",
       "      <td>0.860086</td>\n",
       "      <td>0.854017</td>\n",
       "      <td>0.928032</td>\n",
       "      <td>0.938560</td>\n",
       "      <td>0.920906</td>\n",
       "      <td>6.223673</td>\n",
       "    </tr>\n",
       "    <tr>\n",
       "      <th>min</th>\n",
       "      <td>18.000000</td>\n",
       "      <td>70.000000</td>\n",
       "      <td>1.000000</td>\n",
       "      <td>1.000000</td>\n",
       "      <td>1.000000</td>\n",
       "      <td>1.000000</td>\n",
       "      <td>4.000000</td>\n",
       "      <td>1.000000</td>\n",
       "      <td>1.000000</td>\n",
       "      <td>1.000000</td>\n",
       "      <td>1.000000</td>\n",
       "      <td>1.000000</td>\n",
       "      <td>8.000000</td>\n",
       "    </tr>\n",
       "    <tr>\n",
       "      <th>25%</th>\n",
       "      <td>20.000000</td>\n",
       "      <td>85.000000</td>\n",
       "      <td>1.000000</td>\n",
       "      <td>1.000000</td>\n",
       "      <td>1.000000</td>\n",
       "      <td>1.000000</td>\n",
       "      <td>7.000000</td>\n",
       "      <td>2.500000</td>\n",
       "      <td>3.000000</td>\n",
       "      <td>1.500000</td>\n",
       "      <td>2.500000</td>\n",
       "      <td>2.333333</td>\n",
       "      <td>18.000000</td>\n",
       "    </tr>\n",
       "    <tr>\n",
       "      <th>50%</th>\n",
       "      <td>20.000000</td>\n",
       "      <td>90.000000</td>\n",
       "      <td>2.000000</td>\n",
       "      <td>2.000000</td>\n",
       "      <td>2.000000</td>\n",
       "      <td>2.000000</td>\n",
       "      <td>10.000000</td>\n",
       "      <td>3.000000</td>\n",
       "      <td>3.750000</td>\n",
       "      <td>2.500000</td>\n",
       "      <td>3.000000</td>\n",
       "      <td>3.000000</td>\n",
       "      <td>21.000000</td>\n",
       "    </tr>\n",
       "    <tr>\n",
       "      <th>75%</th>\n",
       "      <td>20.000000</td>\n",
       "      <td>95.000000</td>\n",
       "      <td>3.000000</td>\n",
       "      <td>3.000000</td>\n",
       "      <td>4.000000</td>\n",
       "      <td>3.000000</td>\n",
       "      <td>12.000000</td>\n",
       "      <td>4.000000</td>\n",
       "      <td>4.250000</td>\n",
       "      <td>3.000000</td>\n",
       "      <td>3.500000</td>\n",
       "      <td>3.666667</td>\n",
       "      <td>26.000000</td>\n",
       "    </tr>\n",
       "    <tr>\n",
       "      <th>max</th>\n",
       "      <td>23.000000</td>\n",
       "      <td>105.000000</td>\n",
       "      <td>5.000000</td>\n",
       "      <td>5.000000</td>\n",
       "      <td>5.000000</td>\n",
       "      <td>5.000000</td>\n",
       "      <td>20.000000</td>\n",
       "      <td>5.000000</td>\n",
       "      <td>5.000000</td>\n",
       "      <td>4.500000</td>\n",
       "      <td>4.500000</td>\n",
       "      <td>5.000000</td>\n",
       "      <td>35.000000</td>\n",
       "    </tr>\n",
       "  </tbody>\n",
       "</table>\n",
       "</div>"
      ],
      "text/plain": [
       "             age         soc     fr_str  romantic_str  parent_str    fam_str  \\\n",
       "count  77.000000   77.000000  77.000000     77.000000   77.000000  77.000000   \n",
       "mean   19.987013   89.805195   2.480519      2.389610    2.584416   2.402597   \n",
       "std     0.924712    7.600275   1.220552      1.339244    1.341157   1.183880   \n",
       "min    18.000000   70.000000   1.000000      1.000000    1.000000   1.000000   \n",
       "25%    20.000000   85.000000   1.000000      1.000000    1.000000   1.000000   \n",
       "50%    20.000000   90.000000   2.000000      2.000000    2.000000   2.000000   \n",
       "75%    20.000000   95.000000   3.000000      3.000000    4.000000   3.000000   \n",
       "max    23.000000  105.000000   5.000000      5.000000    5.000000   5.000000   \n",
       "\n",
       "       total_stress  social_support  reframing  spiritual_support  \\\n",
       "count     77.000000       77.000000  77.000000          77.000000   \n",
       "mean       9.857143        3.162338   3.581169           2.318182   \n",
       "std        3.694642        0.860086   0.854017           0.928032   \n",
       "min        4.000000        1.000000   1.000000           1.000000   \n",
       "25%        7.000000        2.500000   3.000000           1.500000   \n",
       "50%       10.000000        3.000000   3.750000           2.500000   \n",
       "75%       12.000000        4.000000   4.250000           3.000000   \n",
       "max       20.000000        5.000000   5.000000           4.500000   \n",
       "\n",
       "       acquire_accept_help  passive_appraisal  satisfaction  \n",
       "count            77.000000          77.000000     77.000000  \n",
       "mean              2.974026           3.064935     21.233766  \n",
       "std               0.938560           0.920906      6.223673  \n",
       "min               1.000000           1.000000      8.000000  \n",
       "25%               2.500000           2.333333     18.000000  \n",
       "50%               3.000000           3.000000     21.000000  \n",
       "75%               3.500000           3.666667     26.000000  \n",
       "max               4.500000           5.000000     35.000000  "
      ]
     },
     "execution_count": 196,
     "metadata": {},
     "output_type": "execute_result"
    }
   ],
   "source": [
    "df.describe()"
   ]
  },
  {
   "cell_type": "markdown",
   "id": "ad8a381f",
   "metadata": {},
   "source": [
    "### 2. Majors"
   ]
  },
  {
   "cell_type": "code",
   "execution_count": 138,
   "id": "ce51c710",
   "metadata": {},
   "outputs": [
    {
     "data": {
      "text/plain": [
       "major\n",
       "Accounting                           2\n",
       "Auditing                             1\n",
       "Business Administration             11\n",
       "Business Chinese                     1\n",
       "Business French                      1\n",
       "Business Japanese                    1\n",
       "Finance & Banking                   18\n",
       "Hospitality Management               2\n",
       "International Business               4\n",
       "International Business Economics    16\n",
       "International Economics              7\n",
       "Law                                  3\n",
       "Marketing                           10\n",
       "dtype: int64"
      ]
     },
     "execution_count": 138,
     "metadata": {},
     "output_type": "execute_result"
    }
   ],
   "source": [
    "df.groupby('major').size()"
   ]
  },
  {
   "cell_type": "markdown",
   "id": "b6c8239e",
   "metadata": {},
   "source": [
    "# Exploratory Data Analysis"
   ]
  },
  {
   "cell_type": "markdown",
   "id": "eaa751e1",
   "metadata": {},
   "source": [
    "### 1. Sense of Coherence, divided by Sex and Occupation Status"
   ]
  },
  {
   "cell_type": "code",
   "execution_count": 205,
   "id": "31f7290f",
   "metadata": {},
   "outputs": [
    {
     "data": {
      "text/plain": [
       "89.8051948051948"
      ]
     },
     "execution_count": 205,
     "metadata": {},
     "output_type": "execute_result"
    }
   ],
   "source": [
    "df['soc'].mean()\n"
   ]
  },
  {
   "cell_type": "code",
   "execution_count": 202,
   "id": "6836f003",
   "metadata": {},
   "outputs": [
    {
     "data": {
      "text/plain": [
       "sex\n",
       "Female    89.678571\n",
       "Male      90.142857\n",
       "Name: soc, dtype: float64"
      ]
     },
     "execution_count": 202,
     "metadata": {},
     "output_type": "execute_result"
    }
   ],
   "source": [
    "df.groupby('sex').mean().soc"
   ]
  },
  {
   "cell_type": "code",
   "execution_count": 201,
   "id": "c40ed3d8",
   "metadata": {},
   "outputs": [
    {
     "data": {
      "text/plain": [
       "job\n",
       "<25 hours/ week    90.371429\n",
       "<40 hours/ week    89.583333\n",
       "No                 89.233333\n",
       "Name: soc, dtype: float64"
      ]
     },
     "execution_count": 201,
     "metadata": {},
     "output_type": "execute_result"
    }
   ],
   "source": [
    "df.groupby('job').mean().soc"
   ]
  },
  {
   "cell_type": "markdown",
   "id": "2a0f4440",
   "metadata": {},
   "source": [
    "### 2. Stress and Stress Factors, divided by Sex and Occupation Status"
   ]
  },
  {
   "cell_type": "code",
   "execution_count": 217,
   "id": "04725668",
   "metadata": {},
   "outputs": [
    {
     "data": {
      "text/html": [
       "<div>\n",
       "<style scoped>\n",
       "    .dataframe tbody tr th:only-of-type {\n",
       "        vertical-align: middle;\n",
       "    }\n",
       "\n",
       "    .dataframe tbody tr th {\n",
       "        vertical-align: top;\n",
       "    }\n",
       "\n",
       "    .dataframe thead th {\n",
       "        text-align: right;\n",
       "    }\n",
       "</style>\n",
       "<table border=\"1\" class=\"dataframe\">\n",
       "  <thead>\n",
       "    <tr style=\"text-align: right;\">\n",
       "      <th></th>\n",
       "      <th>romantic_str</th>\n",
       "      <th>parent_str</th>\n",
       "      <th>fam_str</th>\n",
       "      <th>fr_str</th>\n",
       "      <th>total_stress</th>\n",
       "    </tr>\n",
       "    <tr>\n",
       "      <th>job</th>\n",
       "      <th></th>\n",
       "      <th></th>\n",
       "      <th></th>\n",
       "      <th></th>\n",
       "      <th></th>\n",
       "    </tr>\n",
       "  </thead>\n",
       "  <tbody>\n",
       "    <tr>\n",
       "      <th>&lt;25 hours/ week</th>\n",
       "      <td>2.428571</td>\n",
       "      <td>2.657143</td>\n",
       "      <td>2.457143</td>\n",
       "      <td>2.485714</td>\n",
       "      <td>10.028571</td>\n",
       "    </tr>\n",
       "    <tr>\n",
       "      <th>&lt;40 hours/ week</th>\n",
       "      <td>2.916667</td>\n",
       "      <td>2.750000</td>\n",
       "      <td>2.333333</td>\n",
       "      <td>2.750000</td>\n",
       "      <td>10.750000</td>\n",
       "    </tr>\n",
       "    <tr>\n",
       "      <th>No</th>\n",
       "      <td>2.133333</td>\n",
       "      <td>2.433333</td>\n",
       "      <td>2.366667</td>\n",
       "      <td>2.366667</td>\n",
       "      <td>9.300000</td>\n",
       "    </tr>\n",
       "  </tbody>\n",
       "</table>\n",
       "</div>"
      ],
      "text/plain": [
       "                 romantic_str  parent_str   fam_str    fr_str  total_stress\n",
       "job                                                                        \n",
       "<25 hours/ week      2.428571    2.657143  2.457143  2.485714     10.028571\n",
       "<40 hours/ week      2.916667    2.750000  2.333333  2.750000     10.750000\n",
       "No                   2.133333    2.433333  2.366667  2.366667      9.300000"
      ]
     },
     "execution_count": 217,
     "metadata": {},
     "output_type": "execute_result"
    }
   ],
   "source": [
    "df_job = df.groupby('job').mean()\n",
    "df_job[['romantic_str','parent_str','fam_str','fr_str','total_stress']]"
   ]
  },
  {
   "cell_type": "code",
   "execution_count": 218,
   "id": "ca4f4dc6",
   "metadata": {},
   "outputs": [
    {
     "data": {
      "text/html": [
       "<div>\n",
       "<style scoped>\n",
       "    .dataframe tbody tr th:only-of-type {\n",
       "        vertical-align: middle;\n",
       "    }\n",
       "\n",
       "    .dataframe tbody tr th {\n",
       "        vertical-align: top;\n",
       "    }\n",
       "\n",
       "    .dataframe thead th {\n",
       "        text-align: right;\n",
       "    }\n",
       "</style>\n",
       "<table border=\"1\" class=\"dataframe\">\n",
       "  <thead>\n",
       "    <tr style=\"text-align: right;\">\n",
       "      <th></th>\n",
       "      <th>romantic_str</th>\n",
       "      <th>parent_str</th>\n",
       "      <th>fam_str</th>\n",
       "      <th>fr_str</th>\n",
       "      <th>total_stress</th>\n",
       "    </tr>\n",
       "    <tr>\n",
       "      <th>sex</th>\n",
       "      <th></th>\n",
       "      <th></th>\n",
       "      <th></th>\n",
       "      <th></th>\n",
       "      <th></th>\n",
       "    </tr>\n",
       "  </thead>\n",
       "  <tbody>\n",
       "    <tr>\n",
       "      <th>Female</th>\n",
       "      <td>2.178571</td>\n",
       "      <td>2.607143</td>\n",
       "      <td>2.517857</td>\n",
       "      <td>2.535714</td>\n",
       "      <td>9.839286</td>\n",
       "    </tr>\n",
       "    <tr>\n",
       "      <th>Male</th>\n",
       "      <td>2.952381</td>\n",
       "      <td>2.523810</td>\n",
       "      <td>2.095238</td>\n",
       "      <td>2.333333</td>\n",
       "      <td>9.904762</td>\n",
       "    </tr>\n",
       "  </tbody>\n",
       "</table>\n",
       "</div>"
      ],
      "text/plain": [
       "        romantic_str  parent_str   fam_str    fr_str  total_stress\n",
       "sex                                                               \n",
       "Female      2.178571    2.607143  2.517857  2.535714      9.839286\n",
       "Male        2.952381    2.523810  2.095238  2.333333      9.904762"
      ]
     },
     "execution_count": 218,
     "metadata": {},
     "output_type": "execute_result"
    }
   ],
   "source": [
    "df_sex = df.groupby('sex').mean()\n",
    "df_sex[['romantic_str','parent_str','fam_str','fr_str','total_stress']]"
   ]
  },
  {
   "cell_type": "markdown",
   "id": "aee39615",
   "metadata": {},
   "source": [
    "### 3. Level of Coping, divided by Sex and Occupation Status"
   ]
  },
  {
   "cell_type": "code",
   "execution_count": 235,
   "id": "5e398063",
   "metadata": {},
   "outputs": [
    {
     "data": {
      "text/plain": [
       "social_support         3.162338\n",
       "reframing              3.581169\n",
       "spiritual_support      2.318182\n",
       "acquire_accept_help    2.974026\n",
       "passive_appraisal      3.064935\n",
       "dtype: float64"
      ]
     },
     "execution_count": 235,
     "metadata": {},
     "output_type": "execute_result"
    }
   ],
   "source": [
    "df_coping = df.drop(['age','soc','fr_str','romantic_str','parent_str','fam_str','total_stress','satisfaction'],axis=1)\n",
    "df_coping.drop(['sex','job','major'],axis=1).mean()"
   ]
  },
  {
   "cell_type": "code",
   "execution_count": 236,
   "id": "965e0af2",
   "metadata": {},
   "outputs": [
    {
     "data": {
      "text/html": [
       "<div>\n",
       "<style scoped>\n",
       "    .dataframe tbody tr th:only-of-type {\n",
       "        vertical-align: middle;\n",
       "    }\n",
       "\n",
       "    .dataframe tbody tr th {\n",
       "        vertical-align: top;\n",
       "    }\n",
       "\n",
       "    .dataframe thead th {\n",
       "        text-align: right;\n",
       "    }\n",
       "</style>\n",
       "<table border=\"1\" class=\"dataframe\">\n",
       "  <thead>\n",
       "    <tr style=\"text-align: right;\">\n",
       "      <th></th>\n",
       "      <th>social_support</th>\n",
       "      <th>reframing</th>\n",
       "      <th>spiritual_support</th>\n",
       "      <th>acquire_accept_help</th>\n",
       "      <th>passive_appraisal</th>\n",
       "    </tr>\n",
       "    <tr>\n",
       "      <th>sex</th>\n",
       "      <th></th>\n",
       "      <th></th>\n",
       "      <th></th>\n",
       "      <th></th>\n",
       "      <th></th>\n",
       "    </tr>\n",
       "  </thead>\n",
       "  <tbody>\n",
       "    <tr>\n",
       "      <th>Female</th>\n",
       "      <td>3.089286</td>\n",
       "      <td>3.495536</td>\n",
       "      <td>2.294643</td>\n",
       "      <td>2.982143</td>\n",
       "      <td>3.142857</td>\n",
       "    </tr>\n",
       "    <tr>\n",
       "      <th>Male</th>\n",
       "      <td>3.357143</td>\n",
       "      <td>3.809524</td>\n",
       "      <td>2.380952</td>\n",
       "      <td>2.952381</td>\n",
       "      <td>2.857143</td>\n",
       "    </tr>\n",
       "  </tbody>\n",
       "</table>\n",
       "</div>"
      ],
      "text/plain": [
       "        social_support  reframing  spiritual_support  acquire_accept_help  \\\n",
       "sex                                                                         \n",
       "Female        3.089286   3.495536           2.294643             2.982143   \n",
       "Male          3.357143   3.809524           2.380952             2.952381   \n",
       "\n",
       "        passive_appraisal  \n",
       "sex                        \n",
       "Female           3.142857  \n",
       "Male             2.857143  "
      ]
     },
     "execution_count": 236,
     "metadata": {},
     "output_type": "execute_result"
    }
   ],
   "source": [
    "df_sex = df_coping.groupby('sex').mean()\n",
    "df_sex"
   ]
  },
  {
   "cell_type": "code",
   "execution_count": 239,
   "id": "b484353a",
   "metadata": {},
   "outputs": [
    {
     "data": {
      "text/html": [
       "<div>\n",
       "<style scoped>\n",
       "    .dataframe tbody tr th:only-of-type {\n",
       "        vertical-align: middle;\n",
       "    }\n",
       "\n",
       "    .dataframe tbody tr th {\n",
       "        vertical-align: top;\n",
       "    }\n",
       "\n",
       "    .dataframe thead th {\n",
       "        text-align: right;\n",
       "    }\n",
       "</style>\n",
       "<table border=\"1\" class=\"dataframe\">\n",
       "  <thead>\n",
       "    <tr style=\"text-align: right;\">\n",
       "      <th></th>\n",
       "      <th>social_support</th>\n",
       "      <th>reframing</th>\n",
       "      <th>spiritual_support</th>\n",
       "      <th>acquire_accept_help</th>\n",
       "      <th>passive_appraisal</th>\n",
       "    </tr>\n",
       "    <tr>\n",
       "      <th>job</th>\n",
       "      <th></th>\n",
       "      <th></th>\n",
       "      <th></th>\n",
       "      <th></th>\n",
       "      <th></th>\n",
       "    </tr>\n",
       "  </thead>\n",
       "  <tbody>\n",
       "    <tr>\n",
       "      <th>&lt;25 hours/ week</th>\n",
       "      <td>3.200000</td>\n",
       "      <td>3.485714</td>\n",
       "      <td>2.128571</td>\n",
       "      <td>2.871429</td>\n",
       "      <td>3.200000</td>\n",
       "    </tr>\n",
       "    <tr>\n",
       "      <th>&lt;40 hours/ week</th>\n",
       "      <td>3.333333</td>\n",
       "      <td>3.687500</td>\n",
       "      <td>2.500000</td>\n",
       "      <td>3.166667</td>\n",
       "      <td>3.027778</td>\n",
       "    </tr>\n",
       "    <tr>\n",
       "      <th>No</th>\n",
       "      <td>3.050000</td>\n",
       "      <td>3.650000</td>\n",
       "      <td>2.466667</td>\n",
       "      <td>3.016667</td>\n",
       "      <td>2.922222</td>\n",
       "    </tr>\n",
       "  </tbody>\n",
       "</table>\n",
       "</div>"
      ],
      "text/plain": [
       "                 social_support  reframing  spiritual_support  \\\n",
       "job                                                             \n",
       "<25 hours/ week        3.200000   3.485714           2.128571   \n",
       "<40 hours/ week        3.333333   3.687500           2.500000   \n",
       "No                     3.050000   3.650000           2.466667   \n",
       "\n",
       "                 acquire_accept_help  passive_appraisal  \n",
       "job                                                      \n",
       "<25 hours/ week             2.871429           3.200000  \n",
       "<40 hours/ week             3.166667           3.027778  \n",
       "No                          3.016667           2.922222  "
      ]
     },
     "execution_count": 239,
     "metadata": {},
     "output_type": "execute_result"
    }
   ],
   "source": [
    "df_job = df_coping.groupby('job').mean()\n",
    "df_job"
   ]
  },
  {
   "cell_type": "markdown",
   "id": "0da127b0",
   "metadata": {},
   "source": [
    "### 4. Quality of life"
   ]
  },
  {
   "cell_type": "code",
   "execution_count": 240,
   "id": "4aa727ab",
   "metadata": {},
   "outputs": [
    {
     "data": {
      "text/plain": [
       "21.233766233766232"
      ]
     },
     "execution_count": 240,
     "metadata": {},
     "output_type": "execute_result"
    }
   ],
   "source": [
    "df.satisfaction.mean()\n",
    "#Out of 25 -> Pretty good"
   ]
  },
  {
   "cell_type": "code",
   "execution_count": 242,
   "id": "2ce4d4eb",
   "metadata": {},
   "outputs": [
    {
     "data": {
      "text/plain": [
       "sex\n",
       "Female    21.589286\n",
       "Male      20.285714\n",
       "Name: satisfaction, dtype: float64"
      ]
     },
     "execution_count": 242,
     "metadata": {},
     "output_type": "execute_result"
    }
   ],
   "source": [
    "df.groupby('sex').mean().satisfaction"
   ]
  },
  {
   "cell_type": "code",
   "execution_count": 243,
   "id": "41b211e5",
   "metadata": {},
   "outputs": [
    {
     "data": {
      "text/plain": [
       "job\n",
       "<25 hours/ week    19.571429\n",
       "<40 hours/ week    23.333333\n",
       "No                 22.333333\n",
       "Name: satisfaction, dtype: float64"
      ]
     },
     "execution_count": 243,
     "metadata": {},
     "output_type": "execute_result"
    }
   ],
   "source": [
    "df.groupby('job').mean().satisfaction"
   ]
  },
  {
   "cell_type": "markdown",
   "id": "a6154766",
   "metadata": {},
   "source": [
    "# CORRELATION AND REGRESSION ANALYSIS"
   ]
  },
  {
   "cell_type": "markdown",
   "id": "3aee57f0",
   "metadata": {},
   "source": [
    "### 1. Correlation"
   ]
  },
  {
   "cell_type": "code",
   "execution_count": 294,
   "id": "2177d06e",
   "metadata": {},
   "outputs": [
    {
     "data": {
      "text/html": [
       "<div>\n",
       "<style scoped>\n",
       "    .dataframe tbody tr th:only-of-type {\n",
       "        vertical-align: middle;\n",
       "    }\n",
       "\n",
       "    .dataframe tbody tr th {\n",
       "        vertical-align: top;\n",
       "    }\n",
       "\n",
       "    .dataframe thead tr th {\n",
       "        text-align: left;\n",
       "    }\n",
       "</style>\n",
       "<table border=\"1\" class=\"dataframe\">\n",
       "  <thead>\n",
       "    <tr>\n",
       "      <th></th>\n",
       "      <th>soc</th>\n",
       "      <th>fr_str</th>\n",
       "      <th>romantic_str</th>\n",
       "      <th>parent_str</th>\n",
       "      <th>fam_str</th>\n",
       "      <th>social_support</th>\n",
       "      <th>refraiming</th>\n",
       "      <th>spiritual_support</th>\n",
       "      <th>acquire_accept_help</th>\n",
       "      <th>passive_appraisal</th>\n",
       "      <th>satisfaction</th>\n",
       "    </tr>\n",
       "  </thead>\n",
       "  <tbody>\n",
       "    <tr>\n",
       "      <th>soc</th>\n",
       "      <td>1.000000</td>\n",
       "      <td>-0.245090</td>\n",
       "      <td>-0.204448</td>\n",
       "      <td>-0.304944</td>\n",
       "      <td>-0.190048</td>\n",
       "      <td>0.252484</td>\n",
       "      <td>0.051120</td>\n",
       "      <td>-0.005088</td>\n",
       "      <td>0.114567</td>\n",
       "      <td>0.196091</td>\n",
       "      <td>0.550083</td>\n",
       "    </tr>\n",
       "    <tr>\n",
       "      <th>fr_str</th>\n",
       "      <td>-0.245090</td>\n",
       "      <td>1.000000</td>\n",
       "      <td>0.334735</td>\n",
       "      <td>0.236131</td>\n",
       "      <td>0.292335</td>\n",
       "      <td>0.037521</td>\n",
       "      <td>-0.104181</td>\n",
       "      <td>0.205925</td>\n",
       "      <td>0.194814</td>\n",
       "      <td>0.096741</td>\n",
       "      <td>-0.195125</td>\n",
       "    </tr>\n",
       "    <tr>\n",
       "      <th>romantic_str</th>\n",
       "      <td>-0.204448</td>\n",
       "      <td>0.334735</td>\n",
       "      <td>1.000000</td>\n",
       "      <td>0.494245</td>\n",
       "      <td>0.215124</td>\n",
       "      <td>0.001484</td>\n",
       "      <td>0.055392</td>\n",
       "      <td>0.036572</td>\n",
       "      <td>0.008157</td>\n",
       "      <td>-0.088352</td>\n",
       "      <td>-0.012650</td>\n",
       "    </tr>\n",
       "    <tr>\n",
       "      <th>parent_str</th>\n",
       "      <td>-0.304944</td>\n",
       "      <td>0.236131</td>\n",
       "      <td>0.494245</td>\n",
       "      <td>1.000000</td>\n",
       "      <td>0.628846</td>\n",
       "      <td>-0.271542</td>\n",
       "      <td>0.001119</td>\n",
       "      <td>0.054780</td>\n",
       "      <td>-0.165485</td>\n",
       "      <td>-0.229995</td>\n",
       "      <td>-0.111165</td>\n",
       "    </tr>\n",
       "    <tr>\n",
       "      <th>fam_str</th>\n",
       "      <td>-0.190048</td>\n",
       "      <td>0.292335</td>\n",
       "      <td>0.215124</td>\n",
       "      <td>0.628846</td>\n",
       "      <td>1.000000</td>\n",
       "      <td>-0.149025</td>\n",
       "      <td>-0.088056</td>\n",
       "      <td>0.043549</td>\n",
       "      <td>0.009535</td>\n",
       "      <td>-0.088661</td>\n",
       "      <td>-0.054015</td>\n",
       "    </tr>\n",
       "  </tbody>\n",
       "</table>\n",
       "</div>"
      ],
      "text/plain": [
       "                   soc    fr_str romantic_str parent_str   fam_str  \\\n",
       "soc           1.000000 -0.245090    -0.204448  -0.304944 -0.190048   \n",
       "fr_str       -0.245090  1.000000     0.334735   0.236131  0.292335   \n",
       "romantic_str -0.204448  0.334735     1.000000   0.494245  0.215124   \n",
       "parent_str   -0.304944  0.236131     0.494245   1.000000  0.628846   \n",
       "fam_str      -0.190048  0.292335     0.215124   0.628846  1.000000   \n",
       "\n",
       "             social_support refraiming spiritual_support acquire_accept_help  \\\n",
       "soc                0.252484   0.051120         -0.005088            0.114567   \n",
       "fr_str             0.037521  -0.104181          0.205925            0.194814   \n",
       "romantic_str       0.001484   0.055392          0.036572            0.008157   \n",
       "parent_str        -0.271542   0.001119          0.054780           -0.165485   \n",
       "fam_str           -0.149025  -0.088056          0.043549            0.009535   \n",
       "\n",
       "             passive_appraisal satisfaction  \n",
       "soc                   0.196091     0.550083  \n",
       "fr_str                0.096741    -0.195125  \n",
       "romantic_str         -0.088352    -0.012650  \n",
       "parent_str           -0.229995    -0.111165  \n",
       "fam_str              -0.088661    -0.054015  "
      ]
     },
     "execution_count": 294,
     "metadata": {},
     "output_type": "execute_result"
    }
   ],
   "source": [
    "df_cor = df.drop(['age','total_stress'],axis=1).corr()\n",
    "df_cor.head(5)"
   ]
  },
  {
   "cell_type": "code",
   "execution_count": 283,
   "id": "8b470c9d",
   "metadata": {},
   "outputs": [
    {
     "data": {
      "image/png": "[encoded data removed]",
      "text/plain": [
       "<Figure size 432x288 with 2 Axes>"
      ]
     },
     "metadata": {
      "needs_background": "light"
     },
     "output_type": "display_data"
    }
   ],
   "source": [
    "cor_heatmap = sns.heatmap(df_cor,annot=True, annot_kws={\"size\": 6},cmap='twilight_shifted')"
   ]
  },
  {
   "cell_type": "code",
   "execution_count": 296,
   "id": "b96e71a0",
   "metadata": {},
   "outputs": [],
   "source": [
    "cor_heatmap.get_figure().savefig('t.png',dpi=300)"
   ]
  },
  {
   "cell_type": "markdown",
   "id": "8d3d07e0",
   "metadata": {},
   "source": [
    "### Regression Analysis"
   ]
  },
  {
   "cell_type": "code",
   "execution_count": 272,
   "id": "1058ab9a",
   "metadata": {},
   "outputs": [],
   "source": [
    "y = df.soc\n",
    "x = df[['fr_str', 'romantic_str',\n",
    "       'parent_str', 'fam_str', 'social_support', 'reframing',\n",
    "       'spiritual_support', 'acquire_accept_help', 'passive_appraisal',\n",
    "       'satisfaction']]"
   ]
  },
  {
   "cell_type": "code",
   "execution_count": 291,
   "id": "e925d48a",
   "metadata": {},
   "outputs": [],
   "source": [
    "x =sm.add_constant(x)\n",
    "reg = sm.OLS(y,x).fit()"
   ]
  },
  {
   "cell_type": "code",
   "execution_count": 274,
   "id": "aa449c10",
   "metadata": {
    "scrolled": true
   },
   "outputs": [
    {
     "data": {
      "text/html": [
       "<table class=\"simpletable\">\n",
       "<caption>OLS Regression Results</caption>\n",
       "<tr>\n",
       "  <th>Dep. Variable:</th>           <td>soc</td>       <th>  R-squared:         </th> <td>   0.506</td>\n",
       "</tr>\n",
       "<tr>\n",
       "  <th>Model:</th>                   <td>OLS</td>       <th>  Adj. R-squared:    </th> <td>   0.431</td>\n",
       "</tr>\n",
       "<tr>\n",
       "  <th>Method:</th>             <td>Least Squares</td>  <th>  F-statistic:       </th> <td>   6.761</td>\n",
       "</tr>\n",
       "<tr>\n",
       "  <th>Date:</th>             <td>Mon, 12 Dec 2022</td> <th>  Prob (F-statistic):</th> <td>3.80e-07</td>\n",
       "</tr>\n",
       "<tr>\n",
       "  <th>Time:</th>                 <td>14:07:05</td>     <th>  Log-Likelihood:    </th> <td> -237.77</td>\n",
       "</tr>\n",
       "<tr>\n",
       "  <th>No. Observations:</th>      <td>    77</td>      <th>  AIC:               </th> <td>   497.5</td>\n",
       "</tr>\n",
       "<tr>\n",
       "  <th>Df Residuals:</th>          <td>    66</td>      <th>  BIC:               </th> <td>   523.3</td>\n",
       "</tr>\n",
       "<tr>\n",
       "  <th>Df Model:</th>              <td>    10</td>      <th>                     </th>     <td> </td>   \n",
       "</tr>\n",
       "<tr>\n",
       "  <th>Covariance Type:</th>      <td>nonrobust</td>    <th>                     </th>     <td> </td>   \n",
       "</tr>\n",
       "</table>\n",
       "<table class=\"simpletable\">\n",
       "<tr>\n",
       "           <td></td>              <th>coef</th>     <th>std err</th>      <th>t</th>      <th>P>|t|</th>  <th>[0.025</th>    <th>0.975]</th>  \n",
       "</tr>\n",
       "<tr>\n",
       "  <th>const</th>               <td>   66.9417</td> <td>    6.354</td> <td>   10.536</td> <td> 0.000</td> <td>   54.256</td> <td>   79.627</td>\n",
       "</tr>\n",
       "<tr>\n",
       "  <th>fr_str</th>              <td>   -0.5979</td> <td>    0.637</td> <td>   -0.938</td> <td> 0.352</td> <td>   -1.871</td> <td>    0.675</td>\n",
       "</tr>\n",
       "<tr>\n",
       "  <th>romantic_str</th>        <td>   -0.6250</td> <td>    0.609</td> <td>   -1.026</td> <td> 0.309</td> <td>   -1.841</td> <td>    0.591</td>\n",
       "</tr>\n",
       "<tr>\n",
       "  <th>parent_str</th>          <td>   -0.2306</td> <td>    0.789</td> <td>   -0.292</td> <td> 0.771</td> <td>   -1.806</td> <td>    1.345</td>\n",
       "</tr>\n",
       "<tr>\n",
       "  <th>fam_str</th>             <td>   -0.0759</td> <td>    0.759</td> <td>   -0.100</td> <td> 0.921</td> <td>   -1.591</td> <td>    1.439</td>\n",
       "</tr>\n",
       "<tr>\n",
       "  <th>social_support</th>      <td>    2.6141</td> <td>    1.104</td> <td>    2.367</td> <td> 0.021</td> <td>    0.409</td> <td>    4.819</td>\n",
       "</tr>\n",
       "<tr>\n",
       "  <th>reframing</th>           <td>   -0.5102</td> <td>    0.990</td> <td>   -0.516</td> <td> 0.608</td> <td>   -2.486</td> <td>    1.466</td>\n",
       "</tr>\n",
       "<tr>\n",
       "  <th>spiritual_support</th>   <td>    0.7867</td> <td>    0.866</td> <td>    0.909</td> <td> 0.367</td> <td>   -0.942</td> <td>    2.515</td>\n",
       "</tr>\n",
       "<tr>\n",
       "  <th>acquire_accept_help</th> <td>   -2.0853</td> <td>    1.026</td> <td>   -2.032</td> <td> 0.046</td> <td>   -4.135</td> <td>   -0.036</td>\n",
       "</tr>\n",
       "<tr>\n",
       "  <th>passive_appraisal</th>   <td>    2.8452</td> <td>    0.892</td> <td>    3.190</td> <td> 0.002</td> <td>    1.065</td> <td>    4.626</td>\n",
       "</tr>\n",
       "<tr>\n",
       "  <th>satisfaction</th>        <td>    0.7458</td> <td>    0.119</td> <td>    6.270</td> <td> 0.000</td> <td>    0.508</td> <td>    0.983</td>\n",
       "</tr>\n",
       "</table>\n",
       "<table class=\"simpletable\">\n",
       "<tr>\n",
       "  <th>Omnibus:</th>       <td> 0.394</td> <th>  Durbin-Watson:     </th> <td>   1.544</td>\n",
       "</tr>\n",
       "<tr>\n",
       "  <th>Prob(Omnibus):</th> <td> 0.821</td> <th>  Jarque-Bera (JB):  </th> <td>   0.557</td>\n",
       "</tr>\n",
       "<tr>\n",
       "  <th>Skew:</th>          <td> 0.121</td> <th>  Prob(JB):          </th> <td>   0.757</td>\n",
       "</tr>\n",
       "<tr>\n",
       "  <th>Kurtosis:</th>      <td> 2.661</td> <th>  Cond. No.          </th> <td>    232.</td>\n",
       "</tr>\n",
       "</table><br/><br/>Notes:<br/>[1] Standard Errors assume that the covariance matrix of the errors is correctly specified."
      ],
      "text/plain": [
       "<class 'statsmodels.iolib.summary.Summary'>\n",
       "\"\"\"\n",
       "                            OLS Regression Results                            \n",
       "==============================================================================\n",
       "Dep. Variable:                    soc   R-squared:                       0.506\n",
       "Model:                            OLS   Adj. R-squared:                  0.431\n",
       "Method:                 Least Squares   F-statistic:                     6.761\n",
       "Date:                Mon, 12 Dec 2022   Prob (F-statistic):           3.80e-07\n",
       "Time:                        14:07:05   Log-Likelihood:                -237.77\n",
       "No. Observations:                  77   AIC:                             497.5\n",
       "Df Residuals:                      66   BIC:                             523.3\n",
       "Df Model:                          10                                         \n",
       "Covariance Type:            nonrobust                                         \n",
       "=======================================================================================\n",
       "                          coef    std err          t      P>|t|      [0.025      0.975]\n",
       "---------------------------------------------------------------------------------------\n",
       "const                  66.9417      6.354     10.536      0.000      54.256      79.627\n",
       "fr_str                 -0.5979      0.637     -0.938      0.352      -1.871       0.675\n",
       "romantic_str           -0.6250      0.609     -1.026      0.309      -1.841       0.591\n",
       "parent_str             -0.2306      0.789     -0.292      0.771      -1.806       1.345\n",
       "fam_str                -0.0759      0.759     -0.100      0.921      -1.591       1.439\n",
       "social_support          2.6141      1.104      2.367      0.021       0.409       4.819\n",
       "reframing              -0.5102      0.990     -0.516      0.608      -2.486       1.466\n",
       "spiritual_support       0.7867      0.866      0.909      0.367      -0.942       2.515\n",
       "acquire_accept_help    -2.0853      1.026     -2.032      0.046      -4.135      -0.036\n",
       "passive_appraisal       2.8452      0.892      3.190      0.002       1.065       4.626\n",
       "satisfaction            0.7458      0.119      6.270      0.000       0.508       0.983\n",
       "==============================================================================\n",
       "Omnibus:                        0.394   Durbin-Watson:                   1.544\n",
       "Prob(Omnibus):                  0.821   Jarque-Bera (JB):                0.557\n",
       "Skew:                           0.121   Prob(JB):                        0.757\n",
       "Kurtosis:                       2.661   Cond. No.                         232.\n",
       "==============================================================================\n",
       "\n",
       "Notes:\n",
       "[1] Standard Errors assume that the covariance matrix of the errors is correctly specified.\n",
       "\"\"\""
      ]
     },
     "execution_count": 274,
     "metadata": {},
     "output_type": "execute_result"
    }
   ],
   "source": [
    "reg.summary()"
   ]
  },
  {
   "cell_type": "markdown",
   "id": "3abe6b17",
   "metadata": {},
   "source": [
    "Factors that affecting sense of coherence the most: satisfaction. The more you are satisfied with life, the better you can cope with stress from interpersonal relationships. Romantic and Friends have the highest influence respectively. \n",
    "\n",
    "Stress: All type of interpersonal stresses causes decreases in your sense of coherence.\n",
    "\n",
    "Level of coping: \n",
    "    Reframing is not good for sense of coherence. Surprisingly,\n",
    "    Spiritual_support helps for your sense of coherence. Spiritual support includes religion, the belief in a higher god, meditation, occultism\n",
    "    "
   ]
  }
 ],
 "metadata": {
  "kernelspec": {
   "display_name": "Python 3 (ipykernel)",
   "language": "python",
   "name": "python3"
  },
  "language_info": {
   "codemirror_mode": {
    "name": "ipython",
    "version": 3
   },
   "file_extension": ".py",
   "mimetype": "text/x-python",
   "name": "python",
   "nbconvert_exporter": "python",
   "pygments_lexer": "ipython3",
   "version": "3.9.7"
  },
  "widgets": {
   "application/vnd.jupyter.widget-state+json": {
    "state": {},
    "version_major": 2,
    "version_minor": 0
   }
  }
 },
 "nbformat": 4,
 "nbformat_minor": 5
}
