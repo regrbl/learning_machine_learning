{
 "cells": [
  {
   "cell_type": "markdown",
   "id": "06ea407d",
   "metadata": {},
   "source": [
    "Importing the libraries"
   ]
  },
  {
   "cell_type": "code",
   "execution_count": 2,
   "id": "f86db4ae",
   "metadata": {},
   "outputs": [],
   "source": [
    "import numpy as np\n",
    "import pandas as pd\n",
    "import seaborn as sns\n",
    "from sklearn.model_selection import train_test_split\n",
    "from sklearn import svm\n",
    "from sklearn.metrics import accuracy_score"
   ]
  },
  {
   "cell_type": "markdown",
   "id": "3d5c3d28",
   "metadata": {},
   "source": [
    "Data collection and processing"
   ]
  },
  {
   "cell_type": "code",
   "execution_count": 4,
   "id": "9618736f",
   "metadata": {},
   "outputs": [],
   "source": [
    "#loading the dataset\n",
    "loan_data = pd.read_csv(r\"C:\\Users\\Dell\\Downloads\\train_u6lujuX_CVtuZ9i.csv\")"
   ]
  },
  {
   "cell_type": "code",
   "execution_count": 5,
   "id": "512da8ff",
   "metadata": {},
   "outputs": [
    {
     "data": {
      "text/html": [
       "<div>\n",
       "<style scoped>\n",
       "    .dataframe tbody tr th:only-of-type {\n",
       "        vertical-align: middle;\n",
       "    }\n",
       "\n",
       "    .dataframe tbody tr th {\n",
       "        vertical-align: top;\n",
       "    }\n",
       "\n",
       "    .dataframe thead th {\n",
       "        text-align: right;\n",
       "    }\n",
       "</style>\n",
       "<table border=\"1\" class=\"dataframe\">\n",
       "  <thead>\n",
       "    <tr style=\"text-align: right;\">\n",
       "      <th></th>\n",
       "      <th>Loan_ID</th>\n",
       "      <th>Gender</th>\n",
       "      <th>Married</th>\n",
       "      <th>Dependents</th>\n",
       "      <th>Education</th>\n",
       "      <th>Self_Employed</th>\n",
       "      <th>ApplicantIncome</th>\n",
       "      <th>CoapplicantIncome</th>\n",
       "      <th>LoanAmount</th>\n",
       "      <th>Loan_Amount_Term</th>\n",
       "      <th>Credit_History</th>\n",
       "      <th>Property_Area</th>\n",
       "      <th>Loan_Status</th>\n",
       "    </tr>\n",
       "  </thead>\n",
       "  <tbody>\n",
       "    <tr>\n",
       "      <th>0</th>\n",
       "      <td>LP001002</td>\n",
       "      <td>Male</td>\n",
       "      <td>No</td>\n",
       "      <td>0</td>\n",
       "      <td>Graduate</td>\n",
       "      <td>No</td>\n",
       "      <td>5849</td>\n",
       "      <td>0.0</td>\n",
       "      <td>NaN</td>\n",
       "      <td>360.0</td>\n",
       "      <td>1.0</td>\n",
       "      <td>Urban</td>\n",
       "      <td>Y</td>\n",
       "    </tr>\n",
       "    <tr>\n",
       "      <th>1</th>\n",
       "      <td>LP001003</td>\n",
       "      <td>Male</td>\n",
       "      <td>Yes</td>\n",
       "      <td>1</td>\n",
       "      <td>Graduate</td>\n",
       "      <td>No</td>\n",
       "      <td>4583</td>\n",
       "      <td>1508.0</td>\n",
       "      <td>128.0</td>\n",
       "      <td>360.0</td>\n",
       "      <td>1.0</td>\n",
       "      <td>Rural</td>\n",
       "      <td>N</td>\n",
       "    </tr>\n",
       "    <tr>\n",
       "      <th>2</th>\n",
       "      <td>LP001005</td>\n",
       "      <td>Male</td>\n",
       "      <td>Yes</td>\n",
       "      <td>0</td>\n",
       "      <td>Graduate</td>\n",
       "      <td>Yes</td>\n",
       "      <td>3000</td>\n",
       "      <td>0.0</td>\n",
       "      <td>66.0</td>\n",
       "      <td>360.0</td>\n",
       "      <td>1.0</td>\n",
       "      <td>Urban</td>\n",
       "      <td>Y</td>\n",
       "    </tr>\n",
       "    <tr>\n",
       "      <th>3</th>\n",
       "      <td>LP001006</td>\n",
       "      <td>Male</td>\n",
       "      <td>Yes</td>\n",
       "      <td>0</td>\n",
       "      <td>Not Graduate</td>\n",
       "      <td>No</td>\n",
       "      <td>2583</td>\n",
       "      <td>2358.0</td>\n",
       "      <td>120.0</td>\n",
       "      <td>360.0</td>\n",
       "      <td>1.0</td>\n",
       "      <td>Urban</td>\n",
       "      <td>Y</td>\n",
       "    </tr>\n",
       "    <tr>\n",
       "      <th>4</th>\n",
       "      <td>LP001008</td>\n",
       "      <td>Male</td>\n",
       "      <td>No</td>\n",
       "      <td>0</td>\n",
       "      <td>Graduate</td>\n",
       "      <td>No</td>\n",
       "      <td>6000</td>\n",
       "      <td>0.0</td>\n",
       "      <td>141.0</td>\n",
       "      <td>360.0</td>\n",
       "      <td>1.0</td>\n",
       "      <td>Urban</td>\n",
       "      <td>Y</td>\n",
       "    </tr>\n",
       "    <tr>\n",
       "      <th>5</th>\n",
       "      <td>LP001011</td>\n",
       "      <td>Male</td>\n",
       "      <td>Yes</td>\n",
       "      <td>2</td>\n",
       "      <td>Graduate</td>\n",
       "      <td>Yes</td>\n",
       "      <td>5417</td>\n",
       "      <td>4196.0</td>\n",
       "      <td>267.0</td>\n",
       "      <td>360.0</td>\n",
       "      <td>1.0</td>\n",
       "      <td>Urban</td>\n",
       "      <td>Y</td>\n",
       "    </tr>\n",
       "    <tr>\n",
       "      <th>6</th>\n",
       "      <td>LP001013</td>\n",
       "      <td>Male</td>\n",
       "      <td>Yes</td>\n",
       "      <td>0</td>\n",
       "      <td>Not Graduate</td>\n",
       "      <td>No</td>\n",
       "      <td>2333</td>\n",
       "      <td>1516.0</td>\n",
       "      <td>95.0</td>\n",
       "      <td>360.0</td>\n",
       "      <td>1.0</td>\n",
       "      <td>Urban</td>\n",
       "      <td>Y</td>\n",
       "    </tr>\n",
       "    <tr>\n",
       "      <th>7</th>\n",
       "      <td>LP001014</td>\n",
       "      <td>Male</td>\n",
       "      <td>Yes</td>\n",
       "      <td>3+</td>\n",
       "      <td>Graduate</td>\n",
       "      <td>No</td>\n",
       "      <td>3036</td>\n",
       "      <td>2504.0</td>\n",
       "      <td>158.0</td>\n",
       "      <td>360.0</td>\n",
       "      <td>0.0</td>\n",
       "      <td>Semiurban</td>\n",
       "      <td>N</td>\n",
       "    </tr>\n",
       "    <tr>\n",
       "      <th>8</th>\n",
       "      <td>LP001018</td>\n",
       "      <td>Male</td>\n",
       "      <td>Yes</td>\n",
       "      <td>2</td>\n",
       "      <td>Graduate</td>\n",
       "      <td>No</td>\n",
       "      <td>4006</td>\n",
       "      <td>1526.0</td>\n",
       "      <td>168.0</td>\n",
       "      <td>360.0</td>\n",
       "      <td>1.0</td>\n",
       "      <td>Urban</td>\n",
       "      <td>Y</td>\n",
       "    </tr>\n",
       "    <tr>\n",
       "      <th>9</th>\n",
       "      <td>LP001020</td>\n",
       "      <td>Male</td>\n",
       "      <td>Yes</td>\n",
       "      <td>1</td>\n",
       "      <td>Graduate</td>\n",
       "      <td>No</td>\n",
       "      <td>12841</td>\n",
       "      <td>10968.0</td>\n",
       "      <td>349.0</td>\n",
       "      <td>360.0</td>\n",
       "      <td>1.0</td>\n",
       "      <td>Semiurban</td>\n",
       "      <td>N</td>\n",
       "    </tr>\n",
       "  </tbody>\n",
       "</table>\n",
       "</div>"
      ],
      "text/plain": [
       "    Loan_ID Gender Married Dependents     Education Self_Employed  \\\n",
       "0  LP001002   Male      No          0      Graduate            No   \n",
       "1  LP001003   Male     Yes          1      Graduate            No   \n",
       "2  LP001005   Male     Yes          0      Graduate           Yes   \n",
       "3  LP001006   Male     Yes          0  Not Graduate            No   \n",
       "4  LP001008   Male      No          0      Graduate            No   \n",
       "5  LP001011   Male     Yes          2      Graduate           Yes   \n",
       "6  LP001013   Male     Yes          0  Not Graduate            No   \n",
       "7  LP001014   Male     Yes         3+      Graduate            No   \n",
       "8  LP001018   Male     Yes          2      Graduate            No   \n",
       "9  LP001020   Male     Yes          1      Graduate            No   \n",
       "\n",
       "   ApplicantIncome  CoapplicantIncome  LoanAmount  Loan_Amount_Term  \\\n",
       "0             5849                0.0         NaN             360.0   \n",
       "1             4583             1508.0       128.0             360.0   \n",
       "2             3000                0.0        66.0             360.0   \n",
       "3             2583             2358.0       120.0             360.0   \n",
       "4             6000                0.0       141.0             360.0   \n",
       "5             5417             4196.0       267.0             360.0   \n",
       "6             2333             1516.0        95.0             360.0   \n",
       "7             3036             2504.0       158.0             360.0   \n",
       "8             4006             1526.0       168.0             360.0   \n",
       "9            12841            10968.0       349.0             360.0   \n",
       "\n",
       "   Credit_History Property_Area Loan_Status  \n",
       "0             1.0         Urban           Y  \n",
       "1             1.0         Rural           N  \n",
       "2             1.0         Urban           Y  \n",
       "3             1.0         Urban           Y  \n",
       "4             1.0         Urban           Y  \n",
       "5             1.0         Urban           Y  \n",
       "6             1.0         Urban           Y  \n",
       "7             0.0     Semiurban           N  \n",
       "8             1.0         Urban           Y  \n",
       "9             1.0     Semiurban           N  "
      ]
     },
     "execution_count": 5,
     "metadata": {},
     "output_type": "execute_result"
    }
   ],
   "source": [
    "loan_data.head()\n",
    "loan_data.head(10)"
   ]
  },
  {
   "cell_type": "code",
   "execution_count": 21,
   "id": "4d5adec7",
   "metadata": {},
   "outputs": [
    {
     "data": {
      "text/plain": [
       "(614, 13)"
      ]
     },
     "execution_count": 21,
     "metadata": {},
     "output_type": "execute_result"
    }
   ],
   "source": [
    "loan_data.shape"
   ]
  },
  {
   "cell_type": "code",
   "execution_count": 22,
   "id": "fd838a71",
   "metadata": {
    "scrolled": true
   },
   "outputs": [
    {
     "data": {
      "text/html": [
       "<div>\n",
       "<style scoped>\n",
       "    .dataframe tbody tr th:only-of-type {\n",
       "        vertical-align: middle;\n",
       "    }\n",
       "\n",
       "    .dataframe tbody tr th {\n",
       "        vertical-align: top;\n",
       "    }\n",
       "\n",
       "    .dataframe thead th {\n",
       "        text-align: right;\n",
       "    }\n",
       "</style>\n",
       "<table border=\"1\" class=\"dataframe\">\n",
       "  <thead>\n",
       "    <tr style=\"text-align: right;\">\n",
       "      <th></th>\n",
       "      <th>ApplicantIncome</th>\n",
       "      <th>CoapplicantIncome</th>\n",
       "      <th>LoanAmount</th>\n",
       "      <th>Loan_Amount_Term</th>\n",
       "      <th>Credit_History</th>\n",
       "    </tr>\n",
       "  </thead>\n",
       "  <tbody>\n",
       "    <tr>\n",
       "      <th>count</th>\n",
       "      <td>614.000000</td>\n",
       "      <td>614.000000</td>\n",
       "      <td>592.000000</td>\n",
       "      <td>600.00000</td>\n",
       "      <td>564.000000</td>\n",
       "    </tr>\n",
       "    <tr>\n",
       "      <th>mean</th>\n",
       "      <td>5403.459283</td>\n",
       "      <td>1621.245798</td>\n",
       "      <td>146.412162</td>\n",
       "      <td>342.00000</td>\n",
       "      <td>0.842199</td>\n",
       "    </tr>\n",
       "    <tr>\n",
       "      <th>std</th>\n",
       "      <td>6109.041673</td>\n",
       "      <td>2926.248369</td>\n",
       "      <td>85.587325</td>\n",
       "      <td>65.12041</td>\n",
       "      <td>0.364878</td>\n",
       "    </tr>\n",
       "    <tr>\n",
       "      <th>min</th>\n",
       "      <td>150.000000</td>\n",
       "      <td>0.000000</td>\n",
       "      <td>9.000000</td>\n",
       "      <td>12.00000</td>\n",
       "      <td>0.000000</td>\n",
       "    </tr>\n",
       "    <tr>\n",
       "      <th>25%</th>\n",
       "      <td>2877.500000</td>\n",
       "      <td>0.000000</td>\n",
       "      <td>100.000000</td>\n",
       "      <td>360.00000</td>\n",
       "      <td>1.000000</td>\n",
       "    </tr>\n",
       "    <tr>\n",
       "      <th>50%</th>\n",
       "      <td>3812.500000</td>\n",
       "      <td>1188.500000</td>\n",
       "      <td>128.000000</td>\n",
       "      <td>360.00000</td>\n",
       "      <td>1.000000</td>\n",
       "    </tr>\n",
       "    <tr>\n",
       "      <th>75%</th>\n",
       "      <td>5795.000000</td>\n",
       "      <td>2297.250000</td>\n",
       "      <td>168.000000</td>\n",
       "      <td>360.00000</td>\n",
       "      <td>1.000000</td>\n",
       "    </tr>\n",
       "    <tr>\n",
       "      <th>max</th>\n",
       "      <td>81000.000000</td>\n",
       "      <td>41667.000000</td>\n",
       "      <td>700.000000</td>\n",
       "      <td>480.00000</td>\n",
       "      <td>1.000000</td>\n",
       "    </tr>\n",
       "  </tbody>\n",
       "</table>\n",
       "</div>"
      ],
      "text/plain": [
       "       ApplicantIncome  CoapplicantIncome  LoanAmount  Loan_Amount_Term  \\\n",
       "count       614.000000         614.000000  592.000000         600.00000   \n",
       "mean       5403.459283        1621.245798  146.412162         342.00000   \n",
       "std        6109.041673        2926.248369   85.587325          65.12041   \n",
       "min         150.000000           0.000000    9.000000          12.00000   \n",
       "25%        2877.500000           0.000000  100.000000         360.00000   \n",
       "50%        3812.500000        1188.500000  128.000000         360.00000   \n",
       "75%        5795.000000        2297.250000  168.000000         360.00000   \n",
       "max       81000.000000       41667.000000  700.000000         480.00000   \n",
       "\n",
       "       Credit_History  \n",
       "count      564.000000  \n",
       "mean         0.842199  \n",
       "std          0.364878  \n",
       "min          0.000000  \n",
       "25%          1.000000  \n",
       "50%          1.000000  \n",
       "75%          1.000000  \n",
       "max          1.000000  "
      ]
     },
     "execution_count": 22,
     "metadata": {},
     "output_type": "execute_result"
    }
   ],
   "source": [
    "#statistical measures\n",
    "loan_data.describe()"
   ]
  },
  {
   "cell_type": "code",
   "execution_count": 6,
   "id": "9b4d8ebe",
   "metadata": {},
   "outputs": [
    {
     "data": {
      "text/plain": [
       "Loan_ID               0\n",
       "Gender               13\n",
       "Married               3\n",
       "Dependents           15\n",
       "Education             0\n",
       "Self_Employed        32\n",
       "ApplicantIncome       0\n",
       "CoapplicantIncome     0\n",
       "LoanAmount           22\n",
       "Loan_Amount_Term     14\n",
       "Credit_History       50\n",
       "Property_Area         0\n",
       "Loan_Status           0\n",
       "dtype: int64"
      ]
     },
     "execution_count": 6,
     "metadata": {},
     "output_type": "execute_result"
    }
   ],
   "source": [
    "loan_data.isnull().sum()"
   ]
  },
  {
   "cell_type": "code",
   "execution_count": 7,
   "id": "35aecfd3",
   "metadata": {},
   "outputs": [
    {
     "data": {
      "text/plain": [
       "Loan_ID              0\n",
       "Gender               0\n",
       "Married              0\n",
       "Dependents           0\n",
       "Education            0\n",
       "Self_Employed        0\n",
       "ApplicantIncome      0\n",
       "CoapplicantIncome    0\n",
       "LoanAmount           0\n",
       "Loan_Amount_Term     0\n",
       "Credit_History       0\n",
       "Property_Area        0\n",
       "Loan_Status          0\n",
       "dtype: int64"
      ]
     },
     "execution_count": 7,
     "metadata": {},
     "output_type": "execute_result"
    }
   ],
   "source": [
    "#drop all missing values\n",
    "loan_data = loan_data.dropna()\n",
    "loan_data.isnull().sum()"
   ]
  },
  {
   "cell_type": "code",
   "execution_count": 8,
   "id": "9e8128ee",
   "metadata": {},
   "outputs": [
    {
     "data": {
      "text/html": [
       "<div>\n",
       "<style scoped>\n",
       "    .dataframe tbody tr th:only-of-type {\n",
       "        vertical-align: middle;\n",
       "    }\n",
       "\n",
       "    .dataframe tbody tr th {\n",
       "        vertical-align: top;\n",
       "    }\n",
       "\n",
       "    .dataframe thead th {\n",
       "        text-align: right;\n",
       "    }\n",
       "</style>\n",
       "<table border=\"1\" class=\"dataframe\">\n",
       "  <thead>\n",
       "    <tr style=\"text-align: right;\">\n",
       "      <th></th>\n",
       "      <th>Loan_ID</th>\n",
       "      <th>Gender</th>\n",
       "      <th>Married</th>\n",
       "      <th>Dependents</th>\n",
       "      <th>Education</th>\n",
       "      <th>Self_Employed</th>\n",
       "      <th>ApplicantIncome</th>\n",
       "      <th>CoapplicantIncome</th>\n",
       "      <th>LoanAmount</th>\n",
       "      <th>Loan_Amount_Term</th>\n",
       "      <th>Credit_History</th>\n",
       "      <th>Property_Area</th>\n",
       "      <th>Loan_Status</th>\n",
       "    </tr>\n",
       "  </thead>\n",
       "  <tbody>\n",
       "    <tr>\n",
       "      <th>1</th>\n",
       "      <td>LP001003</td>\n",
       "      <td>Male</td>\n",
       "      <td>Yes</td>\n",
       "      <td>1</td>\n",
       "      <td>Graduate</td>\n",
       "      <td>No</td>\n",
       "      <td>4583</td>\n",
       "      <td>1508.0</td>\n",
       "      <td>128.0</td>\n",
       "      <td>360.0</td>\n",
       "      <td>1.0</td>\n",
       "      <td>Rural</td>\n",
       "      <td>0</td>\n",
       "    </tr>\n",
       "    <tr>\n",
       "      <th>2</th>\n",
       "      <td>LP001005</td>\n",
       "      <td>Male</td>\n",
       "      <td>Yes</td>\n",
       "      <td>0</td>\n",
       "      <td>Graduate</td>\n",
       "      <td>Yes</td>\n",
       "      <td>3000</td>\n",
       "      <td>0.0</td>\n",
       "      <td>66.0</td>\n",
       "      <td>360.0</td>\n",
       "      <td>1.0</td>\n",
       "      <td>Urban</td>\n",
       "      <td>1</td>\n",
       "    </tr>\n",
       "    <tr>\n",
       "      <th>3</th>\n",
       "      <td>LP001006</td>\n",
       "      <td>Male</td>\n",
       "      <td>Yes</td>\n",
       "      <td>0</td>\n",
       "      <td>Not Graduate</td>\n",
       "      <td>No</td>\n",
       "      <td>2583</td>\n",
       "      <td>2358.0</td>\n",
       "      <td>120.0</td>\n",
       "      <td>360.0</td>\n",
       "      <td>1.0</td>\n",
       "      <td>Urban</td>\n",
       "      <td>1</td>\n",
       "    </tr>\n",
       "    <tr>\n",
       "      <th>4</th>\n",
       "      <td>LP001008</td>\n",
       "      <td>Male</td>\n",
       "      <td>No</td>\n",
       "      <td>0</td>\n",
       "      <td>Graduate</td>\n",
       "      <td>No</td>\n",
       "      <td>6000</td>\n",
       "      <td>0.0</td>\n",
       "      <td>141.0</td>\n",
       "      <td>360.0</td>\n",
       "      <td>1.0</td>\n",
       "      <td>Urban</td>\n",
       "      <td>1</td>\n",
       "    </tr>\n",
       "    <tr>\n",
       "      <th>5</th>\n",
       "      <td>LP001011</td>\n",
       "      <td>Male</td>\n",
       "      <td>Yes</td>\n",
       "      <td>2</td>\n",
       "      <td>Graduate</td>\n",
       "      <td>Yes</td>\n",
       "      <td>5417</td>\n",
       "      <td>4196.0</td>\n",
       "      <td>267.0</td>\n",
       "      <td>360.0</td>\n",
       "      <td>1.0</td>\n",
       "      <td>Urban</td>\n",
       "      <td>1</td>\n",
       "    </tr>\n",
       "  </tbody>\n",
       "</table>\n",
       "</div>"
      ],
      "text/plain": [
       "    Loan_ID Gender Married Dependents     Education Self_Employed  \\\n",
       "1  LP001003   Male     Yes          1      Graduate            No   \n",
       "2  LP001005   Male     Yes          0      Graduate           Yes   \n",
       "3  LP001006   Male     Yes          0  Not Graduate            No   \n",
       "4  LP001008   Male      No          0      Graduate            No   \n",
       "5  LP001011   Male     Yes          2      Graduate           Yes   \n",
       "\n",
       "   ApplicantIncome  CoapplicantIncome  LoanAmount  Loan_Amount_Term  \\\n",
       "1             4583             1508.0       128.0             360.0   \n",
       "2             3000                0.0        66.0             360.0   \n",
       "3             2583             2358.0       120.0             360.0   \n",
       "4             6000                0.0       141.0             360.0   \n",
       "5             5417             4196.0       267.0             360.0   \n",
       "\n",
       "   Credit_History Property_Area  Loan_Status  \n",
       "1             1.0         Rural            0  \n",
       "2             1.0         Urban            1  \n",
       "3             1.0         Urban            1  \n",
       "4             1.0         Urban            1  \n",
       "5             1.0         Urban            1  "
      ]
     },
     "execution_count": 8,
     "metadata": {},
     "output_type": "execute_result"
    }
   ],
   "source": [
    "#label encoding\n",
    "loan_data.replace({\"Loan_Status\":{\"N\":0,\"Y\":1}},inplace=True)\n",
    "loan_data.head()"
   ]
  },
  {
   "cell_type": "code",
   "execution_count": 10,
   "id": "0b829876",
   "metadata": {},
   "outputs": [
    {
     "data": {
      "text/html": [
       "<div>\n",
       "<style scoped>\n",
       "    .dataframe tbody tr th:only-of-type {\n",
       "        vertical-align: middle;\n",
       "    }\n",
       "\n",
       "    .dataframe tbody tr th {\n",
       "        vertical-align: top;\n",
       "    }\n",
       "\n",
       "    .dataframe thead th {\n",
       "        text-align: right;\n",
       "    }\n",
       "</style>\n",
       "<table border=\"1\" class=\"dataframe\">\n",
       "  <thead>\n",
       "    <tr style=\"text-align: right;\">\n",
       "      <th></th>\n",
       "      <th>Loan_ID</th>\n",
       "      <th>Gender</th>\n",
       "      <th>Married</th>\n",
       "      <th>Dependents</th>\n",
       "      <th>Education</th>\n",
       "      <th>Self_Employed</th>\n",
       "      <th>ApplicantIncome</th>\n",
       "      <th>CoapplicantIncome</th>\n",
       "      <th>LoanAmount</th>\n",
       "      <th>Loan_Amount_Term</th>\n",
       "      <th>Credit_History</th>\n",
       "      <th>Property_Area</th>\n",
       "      <th>Loan_Status</th>\n",
       "    </tr>\n",
       "  </thead>\n",
       "  <tbody>\n",
       "    <tr>\n",
       "      <th>1</th>\n",
       "      <td>LP001003</td>\n",
       "      <td>1</td>\n",
       "      <td>1</td>\n",
       "      <td>1</td>\n",
       "      <td>1</td>\n",
       "      <td>0</td>\n",
       "      <td>4583</td>\n",
       "      <td>1508.0</td>\n",
       "      <td>128.0</td>\n",
       "      <td>360.0</td>\n",
       "      <td>1.0</td>\n",
       "      <td>0</td>\n",
       "      <td>0</td>\n",
       "    </tr>\n",
       "    <tr>\n",
       "      <th>2</th>\n",
       "      <td>LP001005</td>\n",
       "      <td>1</td>\n",
       "      <td>1</td>\n",
       "      <td>0</td>\n",
       "      <td>1</td>\n",
       "      <td>1</td>\n",
       "      <td>3000</td>\n",
       "      <td>0.0</td>\n",
       "      <td>66.0</td>\n",
       "      <td>360.0</td>\n",
       "      <td>1.0</td>\n",
       "      <td>2</td>\n",
       "      <td>1</td>\n",
       "    </tr>\n",
       "    <tr>\n",
       "      <th>3</th>\n",
       "      <td>LP001006</td>\n",
       "      <td>1</td>\n",
       "      <td>1</td>\n",
       "      <td>0</td>\n",
       "      <td>0</td>\n",
       "      <td>0</td>\n",
       "      <td>2583</td>\n",
       "      <td>2358.0</td>\n",
       "      <td>120.0</td>\n",
       "      <td>360.0</td>\n",
       "      <td>1.0</td>\n",
       "      <td>2</td>\n",
       "      <td>1</td>\n",
       "    </tr>\n",
       "    <tr>\n",
       "      <th>4</th>\n",
       "      <td>LP001008</td>\n",
       "      <td>1</td>\n",
       "      <td>0</td>\n",
       "      <td>0</td>\n",
       "      <td>1</td>\n",
       "      <td>0</td>\n",
       "      <td>6000</td>\n",
       "      <td>0.0</td>\n",
       "      <td>141.0</td>\n",
       "      <td>360.0</td>\n",
       "      <td>1.0</td>\n",
       "      <td>2</td>\n",
       "      <td>1</td>\n",
       "    </tr>\n",
       "    <tr>\n",
       "      <th>5</th>\n",
       "      <td>LP001011</td>\n",
       "      <td>1</td>\n",
       "      <td>1</td>\n",
       "      <td>2</td>\n",
       "      <td>1</td>\n",
       "      <td>1</td>\n",
       "      <td>5417</td>\n",
       "      <td>4196.0</td>\n",
       "      <td>267.0</td>\n",
       "      <td>360.0</td>\n",
       "      <td>1.0</td>\n",
       "      <td>2</td>\n",
       "      <td>1</td>\n",
       "    </tr>\n",
       "  </tbody>\n",
       "</table>\n",
       "</div>"
      ],
      "text/plain": [
       "    Loan_ID  Gender  Married Dependents  Education  Self_Employed  \\\n",
       "1  LP001003       1        1          1          1              0   \n",
       "2  LP001005       1        1          0          1              1   \n",
       "3  LP001006       1        1          0          0              0   \n",
       "4  LP001008       1        0          0          1              0   \n",
       "5  LP001011       1        1          2          1              1   \n",
       "\n",
       "   ApplicantIncome  CoapplicantIncome  LoanAmount  Loan_Amount_Term  \\\n",
       "1             4583             1508.0       128.0             360.0   \n",
       "2             3000                0.0        66.0             360.0   \n",
       "3             2583             2358.0       120.0             360.0   \n",
       "4             6000                0.0       141.0             360.0   \n",
       "5             5417             4196.0       267.0             360.0   \n",
       "\n",
       "   Credit_History  Property_Area  Loan_Status  \n",
       "1             1.0              0            0  \n",
       "2             1.0              2            1  \n",
       "3             1.0              2            1  \n",
       "4             1.0              2            1  \n",
       "5             1.0              2            1  "
      ]
     },
     "execution_count": 10,
     "metadata": {},
     "output_type": "execute_result"
    }
   ],
   "source": [
    "loan_data.replace({\"Married\":{\"No\":0,\"Yes\":1}, \n",
    "                   \"Gender\":{\"Male\":1,\"Female\":0},\n",
    "                    \"Education\":{\"Graduate\":1, \"Not Graduate\":0},\n",
    "                   \"Self_Employed\":{\"Yes\":1,\"No\":0},\n",
    "                   \"Property_Area\":{\"Rural\":0,\"Urban\":2,\"Semiurban\":1}}, inplace=True)\n",
    "loan_data.head()"
   ]
  },
  {
   "cell_type": "code",
   "execution_count": 11,
   "id": "b78c7f21",
   "metadata": {},
   "outputs": [
    {
     "data": {
      "text/plain": [
       "1    383\n",
       "0     97\n",
       "Name: Education, dtype: int64"
      ]
     },
     "execution_count": 11,
     "metadata": {},
     "output_type": "execute_result"
    }
   ],
   "source": [
    "loan_data[\"Education\"].value_counts()"
   ]
  },
  {
   "cell_type": "code",
   "execution_count": 12,
   "id": "1012dd4b",
   "metadata": {},
   "outputs": [
    {
     "data": {
      "text/plain": [
       "1.0    410\n",
       "0.0     70\n",
       "Name: Credit_History, dtype: int64"
      ]
     },
     "execution_count": 12,
     "metadata": {},
     "output_type": "execute_result"
    }
   ],
   "source": [
    "loan_data[\"Credit_History\"].value_counts()"
   ]
  },
  {
   "cell_type": "code",
   "execution_count": 13,
   "id": "8b420752",
   "metadata": {},
   "outputs": [
    {
     "data": {
      "text/plain": [
       "360.0    411\n",
       "180.0     36\n",
       "480.0     12\n",
       "300.0      9\n",
       "120.0      3\n",
       "84.0       3\n",
       "60.0       2\n",
       "240.0      2\n",
       "36.0       2\n",
       "Name: Loan_Amount_Term, dtype: int64"
      ]
     },
     "execution_count": 13,
     "metadata": {},
     "output_type": "execute_result"
    }
   ],
   "source": [
    "loan_data[\"Loan_Amount_Term\"].value_counts()"
   ]
  },
  {
   "cell_type": "code",
   "execution_count": 14,
   "id": "fbfd78d8",
   "metadata": {},
   "outputs": [
    {
     "data": {
      "text/plain": [
       "0    274\n",
       "2     85\n",
       "1     80\n",
       "4     41\n",
       "Name: Dependents, dtype: int64"
      ]
     },
     "execution_count": 14,
     "metadata": {},
     "output_type": "execute_result"
    }
   ],
   "source": [
    "loan_data.replace({\"Dependents\":{\"3+\":4}},inplace=True)\n",
    "loan_data[\"Dependents\"].value_counts()"
   ]
  },
  {
   "cell_type": "code",
   "execution_count": 15,
   "id": "3748fb60",
   "metadata": {},
   "outputs": [
    {
     "data": {
      "text/plain": [
       "<AxesSubplot:xlabel='Education', ylabel='count'>"
      ]
     },
     "execution_count": 15,
     "metadata": {},
     "output_type": "execute_result"
    },
    {
     "data": {
      "image/png": "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\n",
      "text/plain": [
       "<Figure size 432x288 with 1 Axes>"
      ]
     },
     "metadata": {
      "needs_background": "light"
     },
     "output_type": "display_data"
    }
   ],
   "source": [
    "sns.countplot(x=\"Education\",hue=\"Loan_Status\",data=loan_data)"
   ]
  },
  {
   "cell_type": "code",
   "execution_count": 16,
   "id": "b95438ba",
   "metadata": {},
   "outputs": [
    {
     "data": {
      "text/plain": [
       "<AxesSubplot:xlabel='Credit_History', ylabel='count'>"
      ]
     },
     "execution_count": 16,
     "metadata": {},
     "output_type": "execute_result"
    },
    {
     "data": {
      "image/png": "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\n",
      "text/plain": [
       "<Figure size 432x288 with 1 Axes>"
      ]
     },
     "metadata": {
      "needs_background": "light"
     },
     "output_type": "display_data"
    }
   ],
   "source": [
    "sns.countplot(x=\"Credit_History\", hue=\"Loan_Status\", data=loan_data)"
   ]
  },
  {
   "cell_type": "code",
   "execution_count": 17,
   "id": "9c802ab9",
   "metadata": {},
   "outputs": [
    {
     "data": {
      "text/plain": [
       "<AxesSubplot:xlabel='Gender', ylabel='count'>"
      ]
     },
     "execution_count": 17,
     "metadata": {},
     "output_type": "execute_result"
    },
    {
     "data": {
      "image/png": "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\n",
      "text/plain": [
       "<Figure size 432x288 with 1 Axes>"
      ]
     },
     "metadata": {
      "needs_background": "light"
     },
     "output_type": "display_data"
    }
   ],
   "source": [
    "sns.countplot(x=\"Gender\", hue=\"Loan_Status\",data=loan_data)"
   ]
  },
  {
   "cell_type": "code",
   "execution_count": 18,
   "id": "d48a0e3b",
   "metadata": {},
   "outputs": [
    {
     "data": {
      "text/plain": [
       "1    191\n",
       "2    150\n",
       "0    139\n",
       "Name: Property_Area, dtype: int64"
      ]
     },
     "execution_count": 18,
     "metadata": {},
     "output_type": "execute_result"
    }
   ],
   "source": [
    "loan_data[\"Property_Area\"].value_counts()"
   ]
  },
  {
   "cell_type": "code",
   "execution_count": 19,
   "id": "782c7022",
   "metadata": {},
   "outputs": [],
   "source": [
    "#seperating the data and the label\n",
    "x = loan_data.drop(columns=['Loan_ID', 'Loan_Status'], axis=1)\n",
    "y = loan_data['Loan_Status']"
   ]
  },
  {
   "cell_type": "markdown",
   "id": "a2e611cf",
   "metadata": {},
   "source": [
    "Train Test Split"
   ]
  },
  {
   "cell_type": "code",
   "execution_count": 31,
   "id": "31fe4cca",
   "metadata": {},
   "outputs": [],
   "source": [
    "x_train, x_test,y_train,y_test = train_test_split(x,y,test_size=0.1,stratify=y,random_state=3)"
   ]
  },
  {
   "cell_type": "code",
   "execution_count": 21,
   "id": "5d5a802d",
   "metadata": {},
   "outputs": [
    {
     "data": {
      "text/plain": [
       "(432, 11)"
      ]
     },
     "execution_count": 21,
     "metadata": {},
     "output_type": "execute_result"
    }
   ],
   "source": [
    "x_train.shape"
   ]
  },
  {
   "cell_type": "code",
   "execution_count": 22,
   "id": "3ab9019f",
   "metadata": {},
   "outputs": [
    {
     "data": {
      "text/plain": [
       "(432,)"
      ]
     },
     "execution_count": 22,
     "metadata": {},
     "output_type": "execute_result"
    }
   ],
   "source": [
    "y_train.shape"
   ]
  },
  {
   "cell_type": "code",
   "execution_count": 23,
   "id": "2f23beeb",
   "metadata": {},
   "outputs": [
    {
     "data": {
      "text/plain": [
       "(48, 11)"
      ]
     },
     "execution_count": 23,
     "metadata": {},
     "output_type": "execute_result"
    }
   ],
   "source": [
    "x_test.shape"
   ]
  },
  {
   "cell_type": "code",
   "execution_count": 24,
   "id": "292874f3",
   "metadata": {},
   "outputs": [
    {
     "data": {
      "text/plain": [
       "(48,)"
      ]
     },
     "execution_count": 24,
     "metadata": {},
     "output_type": "execute_result"
    }
   ],
   "source": [
    "y_test.shape"
   ]
  },
  {
   "cell_type": "markdown",
   "id": "d9345bf7",
   "metadata": {},
   "source": [
    "Training the model"
   ]
  },
  {
   "cell_type": "markdown",
   "id": "516aa1fe",
   "metadata": {},
   "source": [
    "Support Vector Machine Model"
   ]
  },
  {
   "cell_type": "code",
   "execution_count": 32,
   "id": "862a10da",
   "metadata": {},
   "outputs": [],
   "source": [
    "classifier=svm.SVC(kernel='linear')"
   ]
  },
  {
   "cell_type": "code",
   "execution_count": 33,
   "id": "edd96163",
   "metadata": {},
   "outputs": [
    {
     "data": {
      "text/plain": [
       "SVC(kernel='linear')"
      ]
     },
     "execution_count": 33,
     "metadata": {},
     "output_type": "execute_result"
    }
   ],
   "source": [
    "classifier.fit(x_train,y_train)"
   ]
  },
  {
   "cell_type": "markdown",
   "id": "142c28f7",
   "metadata": {},
   "source": [
    "Model Valuation"
   ]
  },
  {
   "cell_type": "code",
   "execution_count": 36,
   "id": "7da2e5f2",
   "metadata": {},
   "outputs": [
    {
     "name": "stdout",
     "output_type": "stream",
     "text": [
      "Accuracy on training data:  0.7986111111111112\n"
     ]
    }
   ],
   "source": [
    "x_train_prediction = classifier.predict(x_train)\n",
    "training_data_accuracy = accuracy_score(x_train_prediction,y_train)\n",
    "print('Accuracy on training data: ',training_data_accuracy)"
   ]
  },
  {
   "cell_type": "code",
   "execution_count": 35,
   "id": "1a7ffe89",
   "metadata": {},
   "outputs": [
    {
     "name": "stdout",
     "output_type": "stream",
     "text": [
      "Accuracy on testing data:  0.7916666666666666\n"
     ]
    }
   ],
   "source": [
    "x_test_prediction = classifier.predict(x_test)\n",
    "testing_data_acc = accuracy_score(x_test_prediction,y_test)\n",
    "print('Accuracy on testing data: ', testing_data_acc)"
   ]
  }
